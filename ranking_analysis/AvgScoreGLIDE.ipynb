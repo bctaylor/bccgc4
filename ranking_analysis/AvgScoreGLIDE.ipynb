{
 "cells": [
  {
   "cell_type": "code",
   "execution_count": null,
   "metadata": {},
   "outputs": [],
   "source": [
    "#This file calulates the Kendall's Tau value based on the average score for each ligand\n",
    "#Input is the csv files from the GLIDE(the ones Jessie formatted) this includes XP, XP_core, Holo, Holo_core, and SP_core\n",
    "#GLIDE SP is not calculated in this file becuase that was the regular docking.\n",
    "#The Kendall's Taus for average of GLIDE SP is found in \"AvgScoreGlide\"\n",
    "#Data is in ~/Formatted_Data/LogFiles/GLIDE/\n",
    "#outputs a file with the Kendall's Tau values of average rankings for GLIDE"
   ]
  },
  {
   "cell_type": "code",
   "execution_count": null,
   "metadata": {},
   "outputs": [],
   "source": [
    "import numpy as np\n",
    "import scipy.stats as stats"
   ]
  },
  {
   "cell_type": "code",
   "execution_count": null,
   "metadata": {},
   "outputs": [],
   "source": [
    "GLIDE_types = ['holo', 'holo_core', 'SP', 'SP_core', 'XP', 'XP_core']\n",
    "clustering = ['TICA', 'PCA','GROMOS', 'TICA_CBA', 'PCA_CBA','GROMOS_CBA']"
   ]
  },
  {
   "cell_type": "code",
   "execution_count": null,
   "metadata": {},
   "outputs": [],
   "source": [
    "KT_file = open(\"/home/dhkumar/Formatted_Data/LogFiles/GLIDE/Kendalls_Tau_avg.txt\",\"w+\")\n",
    "answer = open(\"/net/jam-amaro-shared/bccgc4/Answers.csv\",\"r\")\n",
    "ranswer = answer.readlines()\n",
    "answer.close()\n",
    "for typ in GLIDE_types:\n",
    "    for clust in clustering:\n",
    "        file_name = typ + '_' + clust + '_scores.csv'\n",
    "        path = '/home/dhkumar/Formatted_Data/LogFiles/GLIDE/' + typ + '/' + file_name\n",
    "        with open(path, 'r') as input_file:\n",
    "            content = input_file.readlines()\n",
    "        content = content[11:]\n",
    "        \n",
    "        avg_score = []\n",
    "        \n",
    "        for lig in range(1,460):\n",
    "            temp = [0,0,0,0,0,0,0,0,0,0]\n",
    "            for line in content:\n",
    "                lig_num = int(line.split(',')[0].split('_')[1])\n",
    "                lig_score = float(line.split(',')[1])\n",
    "                lig_clustnum = int(line.split(',')[2])\n",
    "                if lig_num == lig:\n",
    "                    temp[lig_clustnum - 1] = lig_score\n",
    "            avg_score_temp = (temp[0] + temp[1] + temp[2] + temp[3] + temp[4] + temp[5] + temp[6] + temp[7] + temp[8] + temp[9])/ 10.0\n",
    "            avg_score.append(avg_score_temp)\n",
    "                    \n",
    "        rankings = np.arange(1,460)\n",
    "        rankings_scores = avg_score\n",
    "        for index in range(1,459):\n",
    "            value = rankings_scores[index] \n",
    "            r1 = rankings[index]\n",
    "            i = index - 1\n",
    "            while i>=0:\n",
    "                r2 = rankings[i]\n",
    "                if value < rankings_scores[i]: \n",
    "                    rankings_scores[i+1] = rankings_scores[i]   \n",
    "                    rankings_scores[i] = value\n",
    "                    rankings[i+1] = r2\n",
    "                    rankings[i] = r1\n",
    "                    i=i-1\n",
    "                else:\n",
    "                    break   \n",
    "        \n",
    "        rguess = []\n",
    "        for i in range(459):\n",
    "            rguess.append(('CatS_'+str(rankings[i])+','+ str(i+1) + ',' + str(rankings_scores[i])))        \n",
    "\n",
    "        guesslist = []\n",
    "        for i in rguess:\n",
    "            entry = i.split(\" \")\n",
    "            guesslist.append(entry)\n",
    "        answerlist=[]\n",
    "        for i in ranswer:\n",
    "            entry = i.split(\" \")\n",
    "            answerlist.append(entry)\n",
    "\n",
    "        ans = []\n",
    "        for k in answerlist:\n",
    "            for h in k:\n",
    "                h = h.split(\",\")\n",
    "                num = h[1]\n",
    "                ans.append(num)\n",
    "\n",
    "        gues = []\n",
    "        for y in answerlist:\n",
    "            for u in y:\n",
    "                u = u.split(',')\n",
    "                for p in guesslist:\n",
    "                    for v in p:\n",
    "                        v = v.split(',')\n",
    "                        if u[0] == v[0]:\n",
    "                            gues.append(v[1])\n",
    "\n",
    "        gues = [int(i) for i in gues]\n",
    "        ans = [int(i) for i in ans]\n",
    "\n",
    "        tau,p_value = stats.kendalltau(ans,gues)\n",
    "\n",
    "        print(typ + '----' + clust + ': ' + str(tau))\n",
    "\n",
    "        KT_file.write(typ + ' ' + clust + \": Kendall's Tau = \" + str(tau) + \"  p-value: \" + str(p_value) + '\\n')\n",
    "KT_file.close()\n"
   ]
  }
 ],
 "metadata": {
  "kernelspec": {
   "display_name": "Python 3",
   "language": "python",
   "name": "python3"
  },
  "language_info": {
   "codemirror_mode": {
    "name": "ipython",
    "version": 3
   },
   "file_extension": ".py",
   "mimetype": "text/x-python",
   "name": "python",
   "nbconvert_exporter": "python",
   "pygments_lexer": "ipython3",
   "version": "3.7.6"
  }
 },
 "nbformat": 4,
 "nbformat_minor": 4
}
