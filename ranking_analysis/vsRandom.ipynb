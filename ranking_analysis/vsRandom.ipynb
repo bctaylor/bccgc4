{
 "cells": [
  {
   "cell_type": "code",
   "execution_count": 1,
   "metadata": {},
   "outputs": [],
   "source": [
    "import numpy as np\n",
    "import scipy.stats as stats\n",
    "from numpy.random import rand\n",
    "import matplotlib.pyplot as plt\n",
    "from scipy.stats import norm  "
   ]
  },
  {
   "cell_type": "code",
   "execution_count": 2,
   "metadata": {},
   "outputs": [
    {
     "name": "stdout",
     "output_type": "stream",
     "text": [
      "0.0005366904694010949\n",
      "0.03128304909502234\n"
     ]
    }
   ],
   "source": [
    "#finds the mean and standard deviation of a random ranking Kendall's Tau\n",
    "with open(\"/home/dhkumar/Downloads/ProteinRanks.csv\",\"r\") as input_file:\n",
    "    content1 = input_file.readlines()\n",
    "contentScore = [x.strip().split(',')[2] for x in content1] \n",
    "contentLigand = [x.strip().split(',')[0] for x in content1]\n",
    "\n",
    "\n",
    "Score = contentScore[1:460]\n",
    "Score.reverse()\n",
    "Score = [ float(x) for x in Score ]\n",
    "\n",
    "Ligand = contentLigand[1:460]\n",
    "Ligand.reverse()\n",
    "Ligand = [ int(x) for x in Ligand ]\n",
    "\n",
    "Rank = np.arange(1,460)\n",
    "\n",
    "for i in range(0,457):\n",
    "    if Score[i] == Score[i+1]:\n",
    "        Rank[i+1] = Rank[i]\n",
    "\n",
    "rank2 = np.arange(459)\n",
    "for i in range(len(Rank)):\n",
    "    rank2[Ligand[i]-1] = Rank[i]\n",
    "\n",
    "kendallNew = []\n",
    "\n",
    "for i in range(10000):\n",
    "    random = []\n",
    "    for i in range(459):\n",
    "        randomNum = np.random.randint(1,460)\n",
    "        random.append(randomNum)\n",
    "    tau = stats.kendalltau(random,rank2)\n",
    "    kendallNew.append(tau[0])\n",
    "    \n",
    "\n",
    "average = np.mean(kendallNew)\n",
    "print(average)\n",
    "\n",
    "standard_Deviation = np.std(kendallNew)\n",
    "print(standard_Deviation)"
   ]
  },
  {
   "cell_type": "code",
   "execution_count": 3,
   "metadata": {},
   "outputs": [
    {
     "data": {
      "text/plain": [
       "<Figure size 504x288 with 0 Axes>"
      ]
     },
     "execution_count": 3,
     "metadata": {},
     "output_type": "execute_result"
    },
    {
     "data": {
      "text/plain": [
       "<Figure size 504x288 with 0 Axes>"
      ]
     },
     "metadata": {},
     "output_type": "display_data"
    }
   ],
   "source": [
    "# gaussian distributed random numbers with mu =4 and sigma=2                     \n",
    "x = kendallNew\n",
    "\n",
    "mean = np.mean(x)\n",
    "sigma = np.std(x)\n",
    "\n",
    "x_plot = np.linspace(min(x), max(x), 1000)                                                               \n",
    "plt.figure(figsize=(7,4))"
   ]
  },
  {
   "cell_type": "code",
   "execution_count": 4,
   "metadata": {},
   "outputs": [],
   "source": [
    "Norm = norm.pdf(x_plot,mean,sigma)\n",
    "\n",
    "#finds the bins that are within the first SD\n",
    "SD1 = []\n",
    "for i in x_plot:\n",
    "    if i <=mean+standard_Deviation and i>=mean-standard_Deviation:\n",
    "        SD1.append(i)\n",
    "\n",
    "#lower bound of SD1\n",
    "SD1Low = min(SD1)\n",
    "\n",
    "#upper bound of SD1\n",
    "SD1High= max(SD1)\n",
    "\n",
    "SD1LowBin = 0\n",
    "SD1HighBin = 0\n",
    "for i in range(len(x_plot)):\n",
    "    if x_plot[i] == SD1Low:\n",
    "        SD1LowBin = i \n",
    "    if x_plot[i] == SD1High:\n",
    "        SD1HighBin = i    \n",
    "\n",
    "x_plotnew1 = x_plot[SD1LowBin:SD1HighBin]\n",
    "width1 = x_plotnew1[1]-x_plotnew1[0]\n",
    "norm_values1 = Norm[SD1LowBin:SD1HighBin]\n"
   ]
  },
  {
   "cell_type": "code",
   "execution_count": 5,
   "metadata": {},
   "outputs": [],
   "source": [
    "SD2 = []\n",
    "for i in x_plot:\n",
    "    if i <=mean+(2*standard_Deviation) and i>=mean-(2*standard_Deviation):\n",
    "        SD2.append(i)\n",
    "        \n",
    "#lower bound of SD2\n",
    "SD2Low = min(SD2)\n",
    "\n",
    "#upper bound of SD2\n",
    "SD2High= max(SD2)\n",
    "\n",
    "SD2LowBin = 0\n",
    "SD2HighBin = 0\n",
    "for i in range(len(x_plot)):\n",
    "    if x_plot[i] == SD2Low:\n",
    "        SD2LowBin = i \n",
    "    if x_plot[i] == SD2High:\n",
    "        SD2HighBin = i    \n",
    "\n",
    "\n",
    "x_plotnew2 = x_plot[SD2LowBin:SD2HighBin]\n",
    "norm_values2 = Norm[SD2LowBin:SD2HighBin]\n"
   ]
  },
  {
   "cell_type": "code",
   "execution_count": 6,
   "metadata": {},
   "outputs": [
    {
     "data": {
      "image/png": "[encoded data removed]",
      "text/plain": [
       "<Figure size 432x288 with 1 Axes>"
      ]
     },
     "metadata": {
      "needs_background": "light"
     },
     "output_type": "display_data"
    }
   ],
   "source": [
    "#PDF\n",
    "plt.plot(x_plot, norm.pdf(x_plot, mean, sigma), 'r-', color = 'black', linewidth=2)    \n",
    "\n",
    "#Coloring the Standard Deviations\n",
    "plt.bar(x_plot, Norm, width1, align = 'edge', alpha = 0.75, color = 'lightsteelblue') \n",
    "plt.bar(x_plotnew2, norm_values2, width1, align = 'edge', alpha = 0.75, color = 'cornflowerblue')\n",
    "plt.bar(x_plotnew1, norm_values1, width1, align = 'edge',alpha = 0.75, color = 'royalblue')\n",
    "\n",
    "#Vertical lines for Kendall's Taus                                                    \n",
    "plt.axvline(mean, color = 'orange', linestyle = '--', ymax = 12.630594844422115/20, label = 'Random(' + r\"$\\tau$\"+' = -0.0001)')\n",
    "plt.axvline(0.2243, color = 'green', label = 'Gromos(' + r\"$\\tau$\"+' = 0.2243)')\n",
    "plt.axvline(0.1775, color = 'red', label = 'PCA(' + r\"$\\tau$\"+' = 0.1775)')\n",
    "plt.axvline(0.1800, color = 'blue', label = 'TICA(' + r\"$\\tau$\"+' = 0.1800)')\n",
    "plt.axvline(0.1996, color = 'purple', label = 'Crystal(' + r\"$\\tau$\"+' = 0.1996)')\n",
    "plt.ylim(top=20)\n",
    "plt.xlabel(\"Kendall's tau\")\n",
    "plt.ylabel('Probability Density')\n",
    "plt.legend(loc='best')\n",
    "plt.title(\"Clustering Methods vs Random Rank Ordering (Glide)\")\n",
    "plt.show() \n",
    "\n",
    "# 1 standard deviation away -> 0.7381006559222938 --> 73.8%  \\ 0.6124998558647652 --> 61.2%\n",
    "# Random did better than PCA -> 0.27590024518217154 --> 27.6% \\ 0.7199998305675608 --> 72%\n",
    "# Random did better than Gromos -> 0.07190006389488264 --> 7.2% \\ 0.9463997772904713 --> 94.6%\n",
    "# Random did better than Crystal -> 0.0064000056874443535 --> 0.6% \\ 0.9966997654537328 -> 99.7%\n",
    "# The lowest value achieved by the Random over the course of 10000 iterations was -0.11620100431002736 and the Kendall's Tau value for TICA was -0.17\n",
    "\n",
    "#using z-scores\n",
    "#PCA -> [(-0.02)-(-0.0001)]/0.032 = -0.621875 -> 26.7012% PCA did better than random 26.7012% of the time\n",
    "#Gromos -> [(-0.05)-(-0.0001)]/0.032 = -1.559375 -> 5.9454% Gromos did better than random 5.9454% of the time\n",
    "#Crystal -> [(-0.08)-(-0.0001)]/0.032 = -2.496875 -> 0.6265% Crystal did better than random pusd of the time"
   ]
  },
  {
   "cell_type": "code",
   "execution_count": null,
   "metadata": {},
   "outputs": [],
   "source": []
  }
 ],
 "metadata": {
  "kernelspec": {
   "display_name": "Python 3",
   "language": "python",
   "name": "python3"
  },
  "language_info": {
   "codemirror_mode": {
    "name": "ipython",
    "version": 3
   },
   "file_extension": ".py",
   "mimetype": "text/x-python",
   "name": "python",
   "nbconvert_exporter": "python",
   "pygments_lexer": "ipython3",
   "version": "3.7.3"
  }
 },
 "nbformat": 4,
 "nbformat_minor": 4
}
