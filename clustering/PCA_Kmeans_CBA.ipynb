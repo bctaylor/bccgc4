{
 "cells": [
  {
   "cell_type": "code",
   "execution_count": null,
   "metadata": {},
   "outputs": [],
   "source": [
    "# PCA Clustering on Binding Atoms then kmeans analysis on the MD trajectory, then extracting 10 centroids for docking#"
   ]
  },
  {
   "cell_type": "code",
   "execution_count": null,
   "metadata": {},
   "outputs": [],
   "source": [
    "import pyemma\n",
    "import glob\n",
    "import numpy as np\n",
    "import pyemma.plots as mplt\n",
    "%pylab inline\n",
    "import mdtraj as md\n",
    "import pyemma.coordinates as coor\n",
    " \n",
    "def average_by_state(dtraj, x, nstates):\n",
    "    assert(len(dtraj) == len(x))\n",
    "    N = len(dtraj)\n",
    "    res = np.zeros((nstates))\n",
    "    for i in range(nstates):\n",
    "        I = np.argwhere(dtraj == i)[:,0]\n",
    "        res[i] = np.mean(x[I])\n",
    "    return res\n",
    " \n",
    "def avg_by_set(x, sets):\n",
    "    # compute mean positions of sets. This is important because of some technical points the set order\n",
    "    # in the coarse-grained TPT object can be different from the input order.\n",
    "    avg = np.zeros(len(sets))\n",
    "    for i in range(len(sets)):\n",
    "        I = list(sets[i])\n",
    "        avg[i] = np.mean(x[I])\n",
    "    return avg"
   ]
  },
  {
   "cell_type": "code",
   "execution_count": null,
   "metadata": {},
   "outputs": [],
   "source": [
    "trajfile = []\n",
    "for i in range(1,6):\n",
    "    path = '/net/jam-amaro-shared/bccgc4/Strided_Traj/joined_traj_md'+str(i)+'.nc'\n",
    "    trajfile.append(path)\n",
    "print(trajfile)\n",
    "#assigns the features\n",
    "feat = coor.featurizer(\"/net/jam-amaro-shared/bccgc4/Strided_Traj/protein.h5\")\n",
    "feat.add_selection([1024, 1027, 306, 1029, 1031, 1033, 2851, 1035, 1036, 1037, 1038, 1039, 1034, 1040, 1042, 1043, 1044, 1045, 1041, 2854, 1049, 2076, 311, 1060, 1061, 1062,\n",
    "                              1072, 1074, 1076, 1087, 2112, 2116, 2120, 2122, 2123, 2126, 2135, 323, 2138, 324, 325, 1133, 1134, 1135, 1136, 1137, 2170, 330, 3206, 3207, 3208, 3210, 3323, \n",
    "                              334, 3219, 336, 2207, 2209, 2210, 2211, 2213, 2214, 2215, 2217, 2219, 2220, 2221, 3244, 1715, 1716, 1743, 1745, 1747, 1749, 2897, 3312, 3313, 3314, 3315, 3316, \n",
    "                              3317, 3318, 3319, 3320, 3321, 3322, 2837, 328, 329, 2899, 339, 342, 343, 350, 2911, 354, 359, 361, 362, 363, 364, 365, 366, 367, 379, 385, 386, 395, 398, 2449, \n",
    "                              2451, 2452, 2453, 2454, 2455, 2456, 2460, 2465, 2466, 2467, 2468, 2469, 2470, 2471, 2472, 2473, 2474, 2475, 2477, 2478, 941, 2480, 2481, 946, 2834, 944, 2486, \n",
    "                              2487, 2488, 2835, 2492, 2836, 2494, 963, 2838, 2506, 2507, 2508, 2839, 2510, 972, 978, 979, 980, 2841, 2842, 2844, 997, 2845, 1003, 2846, 1008, 1007, 1010, \n",
    "                              1009, 2847, 1012, 1013, 1011, 1016, 1017, 1018, 1022])\n",
    "\n",
    "#defining the trajs and features without loading into memory\n",
    "inp = coor.source(trajfile, feat)\n",
    "print(inp)\n",
    "print('trajectory length = ',inp.trajectory_length(0))\n",
    "print('number of dimension = ',inp.dimension())"
   ]
  },
  {
   "cell_type": "code",
   "execution_count": null,
   "metadata": {},
   "outputs": [],
   "source": [
    "#running PCA\n",
    "\n",
    "pca_obj=coor.pca(inp, dim= -1, var_cutoff=0.95) #0.95--> 220 dimensions\n"
   ]
  },
  {
   "cell_type": "code",
   "execution_count": null,
   "metadata": {},
   "outputs": [],
   "source": [
    "# this is looking at the first two PC's *OPTIONAL*\n",
    "\n",
    "Ypca = pca_obj.get_output()[0]\n",
    "\n",
    "subplot2grid((2,1),(0,0))\n",
    "plot(Ypca[:,0])\n",
    "ylabel('principal comp. 1')\n",
    "subplot2grid((2,1),(1,0))\n",
    "plot(Ypca[:,1])\n",
    "ylabel('principal comp. 2')"
   ]
  },
  {
   "cell_type": "code",
   "execution_count": null,
   "metadata": {},
   "outputs": [],
   "source": [
    "#This is clustering the PCA results by kmeans\n",
    "Ypca = pca_obj.get_output()\n",
    "\n",
    "cl = coor.cluster_kmeans(data=Ypca,k=10,max_iter=5000)\n",
    "\n",
    "cl.converged"
   ]
  },
  {
   "cell_type": "code",
   "execution_count": null,
   "metadata": {},
   "outputs": [],
   "source": [
    "#defining discrete trajectories\n",
    "\n",
    "dtrajs = cl.dtrajs\n",
    "print(dtrajs)\n",
    "print(np.size(dtrajs))"
   ]
  },
  {
   "cell_type": "code",
   "execution_count": null,
   "metadata": {},
   "outputs": [],
   "source": [
    "#plotting the free energy in subplots for pcs 0-5\n",
    "\n",
    "for s in range(6):\n",
    "    fig, ax = plt.subplots(1, 6, sharex='col', sharey='row', figsize = (20,3.4)) #creating 1x6 subplot grid\n",
    "    \n",
    "    for w in range(6):\n",
    "        mplt.plot_free_energy(np.vstack(Ypca)[:,s], np.vstack(Ypca)[:,w], ax = ax[w], cmap = 'viridis')#, cbar = False, cbar_label = None)\n",
    "        cc_x = cl.clustercenters[:,s]\n",
    "        cc_y = cl.clustercenters[:,w]\n",
    "        #ax[w].plot(cc_x,cc_y, linewidth=0, marker='o', markersize=5, color='red')\n",
    "        colors = ['black','gray','red','saddlebrown','darkorange','gold','darkgreen','aqua','darkviolet','deeppink']\n",
    "        for i in range(10):\n",
    "            ax[w].scatter(cc_x[i], cc_y[i], color = colors[i])\n",
    "    \n",
    "    for a in range(6):\n",
    "        ax[a].set(xlabel = ('PC '+str(a)))\n",
    "        \n",
    "    fig.text(0.001, 0.5, 'PC '+str(s), va = 'center', rotation='vertical')\n",
    "    \n",
    "    fig.suptitle('PCA Receptor Atoms Cluster Centroids',fontsize = 16, y=1.06)\n",
    "    fig.tight_layout()\n",
    "\n",
    "    plt.savefig('/home/jegan/Clustering_methods/PCA/figs/PCA_recepatoms_FE/PCA_FE_PC'+str(s)+'.png', bbox_inches = 'tight')\n"
   ]
  },
  {
   "cell_type": "code",
   "execution_count": null,
   "metadata": {},
   "outputs": [],
   "source": [
    "print(np.size(pca_obj.cumvar))\n",
    "#print(pca_obj.cumvar)\n",
    "print(np.size(Ypca[0]))"
   ]
  },
  {
   "cell_type": "code",
   "execution_count": null,
   "metadata": {},
   "outputs": [],
   "source": [
    "#From here on it's clustering and extracting centroids, as well as saving out the centroid coords"
   ]
  },
  {
   "cell_type": "code",
   "execution_count": null,
   "metadata": {},
   "outputs": [],
   "source": [
    "#This prints the discrete trajectories we saved out before, then saves out the percent of frames in each cluster\n",
    "print(dtrajs)\n",
    "print(dtrajs[0])\n",
    "\n",
    "with open('/home/jegan/Clustering_methods/PCA/clusters_receptors.txt', 'w') as newfile:\n",
    "    numb = []\n",
    "    for i in range(10):\n",
    "        frames = []\n",
    "        for k in dtrajs:\n",
    "            for p in k:\n",
    "                if p == i:\n",
    "                    frames.append(p)\n",
    "\n",
    "        print(len(frames))\n",
    "        numb.append(len(frames))\n",
    "    \n",
    "    newfile.write('Percent of frames per PCA recepatoms cluster:\\n')\n",
    "    tot = 0\n",
    "    index = 0\n",
    "    for j in numb:\n",
    "        tot += j\n",
    "        percent = (j/450000)*100\n",
    "        num = str(percent)\n",
    "        newfile.write('Cluster '+ str(index)+' = '+num+'\\n')\n",
    "        index += 1\n",
    "    print(tot)"
   ]
  },
  {
   "cell_type": "code",
   "execution_count": null,
   "metadata": {},
   "outputs": [],
   "source": [
    "#Extracting Centroids\n",
    "\n",
    "avg = [100, 100, 100, 100, 100, 100, 100, 100, 100, 100]\n",
    "\n",
    "indices = {}\n",
    "for i in range(len(Ypca)):\n",
    "    #for k in range(len(Y[0][i])):\n",
    "    for k in range(len(Ypca[i])):\n",
    "        c = cl.clustercenters[cl.dtrajs[i][k]]\n",
    "        v = Ypca[i][k]\n",
    "        newavg = np.linalg.norm(c-v)\n",
    "        if avg[cl.dtrajs[i][k]] > newavg:\n",
    "            avg[cl.dtrajs[i][k]] = newavg\n",
    "            indices[cl.dtrajs[i][k]] = [i, k]\n",
    "\n",
    "trajectory=md.load(['/net/jam-amaro-shared/bccgc4/Strided_Traj/joined_traj_md1.nc', '/net/jam-amaro-shared/bccgc4/Strided_Traj/joined_traj_md2.nc', '/net/jam-amaro-shared/bccgc4/Strided_Traj/joined_traj_md3.nc', '/net/jam-amaro-shared/bccgc4/Strided_Traj/joined_traj_md4.nc', '/net/jam-amaro-shared/bccgc4/Strided_Traj/joined_traj_md5.nc'], top=\"/net/jam-amaro-shared/bccgc4/Strided_Traj/protein.h5\")\n",
    "\n",
    "z = 0\n",
    "for key in indices:\n",
    "        z = z + 1\n",
    "        index = indices[key][1]*(1 + indices[key][0])\n",
    "        print(index)\n",
    "        i = trajectory[index].topology.select(\"protein\")\n",
    "        new_traj = trajectory[index].atom_slice(i)\n",
    "        new_traj.save_pdb('/home/jegan/Clustering_methods/PCA/PCA_recepatoms_centroids/PCA_%s.pdb' % (z-1))"
   ]
  }
 ],
 "metadata": {
  "kernelspec": {
   "display_name": "Python 3",
   "language": "python",
   "name": "python3"
  },
  "language_info": {
   "codemirror_mode": {
    "name": "ipython",
    "version": 3
   },
   "file_extension": ".py",
   "mimetype": "text/x-python",
   "name": "python",
   "nbconvert_exporter": "python",
   "pygments_lexer": "ipython3",
   "version": "3.7.3"
  }
 },
 "nbformat": 4,
 "nbformat_minor": 4
}
