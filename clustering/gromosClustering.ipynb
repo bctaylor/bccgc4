{
 "cells": [
  {
   "cell_type": "code",
   "execution_count": 2,
   "metadata": {},
   "outputs": [
    {
     "name": "stdout",
     "output_type": "stream",
     "text": [
      "<mdtraj.Trajectory with 450000 frames, 3324 atoms, 220 residues, and unitcells>\n",
      "[   8   27   54   60   72   83   99  111  135  159  174  196  203  214\n",
      "  230  244  259  275  297  318  335  342  353  363  370  380  391  415\n",
      "  425  445  456  466  482  489  499  518  533  543  560  579  601  620\n",
      "  642  656  663  685  704  720  731  750  761  771  788  802  821  837\n",
      "  849  859  870  884  899  921  942  949  963  985  992 1002 1016 1023\n",
      " 1030 1050 1067 1081 1095 1105 1125 1142 1163 1182 1201 1213 1227 1249\n",
      " 1256 1275 1288 1299 1311 1321 1332 1361 1367 1388 1410 1420 1437 1449\n",
      " 1466 1488 1498 1515 1536 1548 1559 1581 1602 1626 1636 1646 1660 1671\n",
      " 1682 1704 1725 1739 1754 1781 1787 1808 1815 1839 1854 1866 1882 1901\n",
      " 1923 1938 1948 1964 1974 1988 2010 2025 2031 2047 2058 2074 2081 2097\n",
      " 2109 2119 2143 2169 2175 2186 2206 2226 2245 2266 2290 2301 2308 2324\n",
      " 2345 2366 2389 2395 2406 2416 2430 2447 2461 2477 2491 2508 2515 2531\n",
      " 2550 2566 2582 2589 2610 2617 2629 2648 2662 2669 2691 2706 2727 2751\n",
      " 2770 2786 2808 2822 2833 2857 2864 2882 2896 2916 2923 2938 2953 2960\n",
      " 2981 3000 3024 3041 3051 3075 3089 3111 3118 3132 3149 3159 3166 3185\n",
      " 3195 3206 3234 3240 3251 3280 3286 3301]\n"
     ]
    },
    {
     "data": {
      "text/plain": [
       "<mdtraj.Trajectory with 450000 frames, 3324 atoms, 220 residues, and unitcells at 0x7fc17c7b5e80>"
      ]
     },
     "execution_count": 2,
     "metadata": {},
     "output_type": "execute_result"
    }
   ],
   "source": [
    "import mdtraj as md\n",
    "import numpy as np\n",
    "import matplotlib.pyplot as plot\n",
    "import subprocess\n",
    "import os\n",
    "\n",
    "BCCID= ['md1/']\n",
    "mydir='/net/jam-amaro-shared/bccgc4/Clustering/Gromos/clustering/'\n",
    "workingdir=mydir\n",
    "filedir='/net/jam-amaro-shared/bccgc4/Strided_Traj/'\n",
    "j='joined_traj_md'\n",
    "\n",
    "traj1=md.load([filedir+j+'1.nc', filedir+j+'2.nc', filedir+j+'3.nc', filedir+j+'4.nc', filedir+j+'5.nc'], top=filedir+'protein.h5')\n",
    "print (traj1)\n",
    "\n",
    "#alignment by alpha carbons\n",
    "alphacarbon_indices=traj1.topology.select('name CA')\n",
    "print(alphacarbon_indices)\n",
    "\n",
    "traj1.superpose(traj1, 0, alphacarbon_indices)\n",
    "\n",
    "#proteinv selection (trajectory.pdb)\n",
    "#protein1selection=traj1.topology.select('protein')\n",
    "#print(protein1selection)\n",
    "#protein1=traj1.atom_slice(protein1selection)\n",
    "#print(protein1)\n",
    "#print(protein1.topology)\n",
    "#protein1.save_pdb(workingdir+'trajectory.pdb')"
   ]
  },
  {
   "cell_type": "code",
   "execution_count": null,
   "metadata": {},
   "outputs": [],
   "source": [
    "traj1.save_pdb(workingdir+'trajectory.pdb')\n",
    "print(\"YAY\")"
   ]
  },
  {
   "cell_type": "code",
   "execution_count": null,
   "metadata": {},
   "outputs": [],
   "source": [
    "###trajectory.pdb formatting\n",
    "get_ipython().system('cat '+mydir+'trajectory.pdb | grep -v CRYST1 > '+mydir+'temp.pdb')\n",
    "get_ipython().system('mv -f '+mydir+'temp.pdb '+mydir+'trajectory.pdb')\n",
    "#get_ipython().system('perl -pi -e \"s/END/ENDMDL/g\" trajectory.pdb')\n",
    "\n",
    "ref_frame=traj1[0]\n",
    "print(ref_frame)\n",
    "ref_frame.save_pdb(workingdir+'ref_frame.pdb')\n",
    "\n",
    "get_ipython().system(\" cat \"+mydir+\"ref_frame.pdb | awk '{print $6}' | sort -n | uniq > \"+mydir+\"resid_ref_frame.dat\")\n",
    "\n",
    "print(\"Woooh\")\n",
    "# resid_activesite.dat formatting\n",
    "f=open(mydir+'resid_ref_frame.dat','r')\n",
    "lines=f.readlines()\n",
    "f.close()\n",
    "f=open(mydir+'resid_ref_frame.dat','w')\n",
    "for line in lines:\n",
    "    if (line [0:1]!='\\n'):\n",
    "        if \",\" not in line:\n",
    "            f.write(line)\n",
    "f.close()\n",
    "print(\"Duck Tales\")\n",
    "\n",
    "get_ipython().system('cat '+mydir+'resid_ref_frame.dat | awk \\'{print \"cat /net/jam-amaro-shared/bccgc4/Clustering/Gromos/first_frame.pdb | awk STARTif ($6==\" $1  \") print $0 END\" }\\' | sed \"s/START/\\'{/g\" | sed \"s/END/}\\'/g\"  | csh > '+mydir+'ref_frame_correct$| csh > '+mydir+'ref_frame_correct_residues.pdb')\n",
    "\n",
    "get_ipython().system('cat '+mydir+'ref_frame_correct_residues.pdb  | awk \\'{printf $2 \" \"}\\' > '+mydir+'ref_frame_atoms_indices.dat')\n",
    "get_ipython().system('cat '+mydir+'ref_frame_correct_residues.pdb | grep \" CA \" | awk \\'{ if ( NR%15 == 0){ {printf \"%4i\", $2} {printf \"\\\\n\"} } else {printf \"%4i \", $2} }\\' > '+mydir+'ref_frame.ndx')\n",
    "get_ipython().system('cat /net/jam-amaro-shared/bccgc4/Clustering/Gromos/first_frame.pdb | grep \" CA \" | awk \\'{ if ( NR%15 == 0){ {printf \"%4i\", $2} {printf \"\\\\n\"} } else {printf \"%4i \", $2} }\\' > '+mydir+'alpha_carbons_indices.ndx')\n",
    "get_ipython().system('cat '+mydir+'alpha_carbons_indices.ndx '+mydir+'ref_frame.ndx > '+mydir+'selections.ndx')\n",
    "\n",
    "print(\"Woooh\")\n",
    "f=open(mydir+'ref_frame.ndx','r+')\n",
    "lines=f.readlines()\n",
    "f.seek(0)\n",
    "f.write('[ ref_frame_CA ] \\n')\n",
    "for line in lines:\n",
    "    f.write(line)\n",
    "f.close()\n",
    "\n",
    "print(\"David tenat's in this one\")\n",
    "f=open(mydir+'alpha_carbons_indices.ndx','r+')\n",
    "lines=f.readlines()\n",
    "f.seek(0)\n",
    "f.write('[ C-alpha ] \\n')\n",
    "for line in lines:\n",
    "    f.write(line)\n",
    "f.close()\n",
    "\n",
    "print(\"And Lin Manuel Miranda\")\n",
    "get_ipython().system('cat '+mydir+'alpha_carbons_indices.ndx '+mydir+'ref_frame.ndx > '+mydir+'selections.ndx')"
   ]
  },
  {
   "cell_type": "markdown",
   "metadata": {},
   "source": [
    "When you finish the above step, get the first frame of each trajectory and name it first_frame.pdb in the working directory."
   ]
  },
  {
   "cell_type": "code",
   "execution_count": null,
   "metadata": {},
   "outputs": [],
   "source": []
  }
 ],
 "metadata": {
  "kernelspec": {
   "display_name": "Python 3",
   "language": "python",
   "name": "python3"
  },
  "language_info": {
   "codemirror_mode": {
    "name": "ipython",
    "version": 3
   },
   "file_extension": ".py",
   "mimetype": "text/x-python",
   "name": "python",
   "nbconvert_exporter": "python",
   "pygments_lexer": "ipython3",
   "version": "3.6.6"
  }
 },
 "nbformat": 4,
 "nbformat_minor": 2
}
