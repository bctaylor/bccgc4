{
 "cells": [
  {
   "cell_type": "code",
   "execution_count": 1,
   "metadata": {},
   "outputs": [],
   "source": [
    "#takes in the log files from Open Eye Docking\n",
    "#outputs 10 txt files \n",
    "#For example, /FRED/PCA_CBA/2.txt will rank the ligands based on the scores from PCA_CBA cluster 2.\n",
    "#Each one of the txt files outputed is now in the format for KendallsTau.py"
   ]
  },
  {
   "cell_type": "code",
   "execution_count": 2,
   "metadata": {},
   "outputs": [],
   "source": [
    "import matplotlib.pyplot as plt\n",
    "import numpy as np"
   ]
  },
  {
   "cell_type": "code",
   "execution_count": 23,
   "metadata": {},
   "outputs": [],
   "source": [
    "methods =[\"GROMOS\", \"GROMOS_CBA\", \"PCA_CBA\", \"PCA\", \"TICA_CBA\", \"TICA\"] \n",
    "clusters = [9,4,7,5,0,1,8,3,2,6]\n",
    "\n",
    "for zzz in methods: \n",
    "    with open(\"/home/dhkumar/Formated_Data/LogFiles/OpenEye/\"+zzz+\".txt\",\"r\") as input_file:\n",
    "        content = input_file.readlines()\n",
    "\n",
    "    contentLigandNumber = []\n",
    "    for x in content:\n",
    "        a1 = x.strip().split()[1]\n",
    "        aa1 = a1.split(\"_\")[1]\n",
    "        contentLigandNumber.append(int(aa1))\n",
    "    contentLigandScore = []\n",
    "    for x in content:\n",
    "        a2 = float(x.strip().split()[2])\n",
    "        contentLigandScore.append(a2)\n",
    "\n",
    "    input_file.close()\n",
    "    \n",
    "    for aaa in range(len(clusters)):\n",
    "        LigandNumber = contentLigandNumber[459*aaa:459*(aaa+1)]\n",
    "        LigandScore = contentLigandScore[459*aaa:459*(aaa+1)]\n",
    "        L = np.arange(459.0)\n",
    "        \n",
    "        for i in range(len(LigandNumber)):\n",
    "            number = LigandNumber[i]\n",
    "            score = LigandScore[i]\n",
    "            L[number-1] = score\n",
    "            \n",
    "        \n",
    "        rankings = np.arange(1,460)\n",
    "        rankings_scores = L\n",
    "        for index in range(1,459):\n",
    "            value = rankings_scores[index] \n",
    "            r1 = rankings[index]\n",
    "            i = index - 1\n",
    "            while i>=0:\n",
    "                r2 = rankings[i]\n",
    "                if value < rankings_scores[i]: \n",
    "                    rankings_scores[i+1] = rankings_scores[i]   \n",
    "                    rankings_scores[i] = value\n",
    "                    rankings[i+1] = r2\n",
    "                    rankings[i] = r1\n",
    "                    i=i-1\n",
    "                else:\n",
    "                    break\n",
    "                    \n",
    "        files = open(\"/home/dhkumar/Formated_Data/LogFiles/OpenEye/\"+zzz+\"/cluster\"+str(clusters[aaa])+\".txt\",\"w+\") \n",
    "        for i in range(459):\n",
    "            files.write('CatS_'+str(rankings[i])+','+ str(i+1) + ',' + str(rankings_scores[i])+' \\n')\n",
    "        files.close()\n",
    "            "
   ]
  },
  {
   "cell_type": "code",
   "execution_count": null,
   "metadata": {},
   "outputs": [],
   "source": []
  }
 ],
 "metadata": {
  "kernelspec": {
   "display_name": "Python 3",
   "language": "python",
   "name": "python3"
  },
  "language_info": {
   "codemirror_mode": {
    "name": "ipython",
    "version": 3
   },
   "file_extension": ".py",
   "mimetype": "text/x-python",
   "name": "python",
   "nbconvert_exporter": "python",
   "pygments_lexer": "ipython3",
   "version": "3.7.3"
  }
 },
 "nbformat": 4,
 "nbformat_minor": 4
}
