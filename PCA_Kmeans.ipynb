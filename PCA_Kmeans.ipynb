{
 "cells": [
  {
   "cell_type": "code",
   "execution_count": 5,
   "metadata": {},
   "outputs": [],
   "source": [
    "# Save topology with carbon alphas \n",
    "joined_traj=md.load(\"/net/jam-amaro-shared/bccgc4/CatSMD/md1/1.nc\", top=\"/net/jam-amaro-shared/bccgc4/Strided_Traj/system.prmtop\",stride=100)\n",
    "selection=joined_traj.topology.select(\"protein\")\n",
    "joined_traj=joined_traj.atom_slice(selection)\n",
    "    \n",
    "first_frame=joined_traj[0]\n",
    "first_frame.save_hdf5(\"/net/jam-amaro-shared/bccgc4/Strided_Traj/CA_Aligned_Traj/protein.h5\")"
   ]
  },
  {
   "cell_type": "code",
   "execution_count": null,
   "metadata": {},
   "outputs": [],
   "source": [
    "#Start "
   ]
  },
  {
   "cell_type": "code",
   "execution_count": 1,
   "metadata": {},
   "outputs": [
    {
     "name": "stdout",
     "output_type": "stream",
     "text": [
      "Populating the interactive namespace from numpy and matplotlib\n"
     ]
    }
   ],
   "source": [
    "import pyemma\n",
    "import glob\n",
    "import numpy as np\n",
    "import pyemma.plots as mplt\n",
    "%pylab inline\n",
    "import mdtraj as md\n",
    "import pyemma.coordinates as coor\n",
    " \n",
    "def average_by_state(dtraj, x, nstates):\n",
    "    assert(len(dtraj) == len(x))\n",
    "    N = len(dtraj)\n",
    "    res = np.zeros((nstates))\n",
    "    for i in range(nstates):\n",
    "        I = np.argwhere(dtraj == i)[:,0]\n",
    "        res[i] = np.mean(x[I])\n",
    "    return res\n",
    " \n",
    "def avg_by_set(x, sets):\n",
    "    # compute mean positions of sets. This is important because of some technical points the set order\n",
    "    # in the coarse-grained TPT object can be different from the input order.\n",
    "    avg = np.zeros(len(sets))\n",
    "    for i in range(len(sets)):\n",
    "        I = list(sets[i])\n",
    "        avg[i] = np.mean(x[I])\n",
    "    return avg\n"
   ]
  },
  {
   "cell_type": "code",
   "execution_count": 2,
   "metadata": {},
   "outputs": [],
   "source": [
    "traj=md.load(\"/net/jam-amaro-shared/bccgc4/Strided_Traj/CA_Aligned_Traj/joined_traj_CA.xtc\",top=\"/net/jam-amaro-shared/bccgc4/Strided_Traj/CA_Aligned_Traj/protein_ca.h5\")"
   ]
  },
  {
   "cell_type": "code",
   "execution_count": 3,
   "metadata": {},
   "outputs": [],
   "source": [
    "Traj=md.load(\"/net/jam-amaro-shared/bccgc4/Strided_Traj/CA_Aligned_Traj/joined_traj_ALL.xtc\", top=\"protein.h5\")"
   ]
  },
  {
   "cell_type": "code",
   "execution_count": 4,
   "metadata": {},
   "outputs": [
    {
     "name": "stdout",
     "output_type": "stream",
     "text": [
      "<mdtraj.Trajectory with 450000 frames, 218 atoms, 218 residues, and unitcells>\n",
      "<mdtraj.Trajectory with 450000 frames, 3324 atoms, 220 residues, and unitcells>\n"
     ]
    }
   ],
   "source": [
    "print(traj)\n",
    "print(Traj)"
   ]
  },
  {
   "cell_type": "code",
   "execution_count": 5,
   "metadata": {},
   "outputs": [
    {
     "name": "stdout",
     "output_type": "stream",
     "text": [
      "['ATOM:ILE 1 CA 0 x', 'ATOM:ILE 1 CA 0 y', 'ATOM:ILE 1 CA 0 z', 'ATOM:LEU 2 CA 1 x', 'ATOM:LEU 2 CA 1 y', 'ATOM:LEU 2 CA 1 z', 'ATOM:PRO 3 CA 2 x', 'ATOM:PRO 3 CA 2 y', 'ATOM:PRO 3 CA 2 z', 'ATOM:ASP 4 CA 3 x', 'ATOM:ASP 4 CA 3 y', 'ATOM:ASP 4 CA 3 z', 'ATOM:SER 5 CA 4 x']\n",
      "<pyemma.coordinates.data.feature_reader.FeatureReader object at 0x7f13bc1c1518>\n",
      "trajectory length =  450000\n",
      "number of dimension =  654\n"
     ]
    }
   ],
   "source": [
    "trajfile=\"/net/jam-amaro-shared/bccgc4/Strided_Traj/CA_Aligned_Traj/joined_traj_CA.xtc\"\n",
    "topfile=\"/net/jam-amaro-shared/bccgc4/Strided_Traj/CA_Aligned_Traj/protein_ca.h5\"\n",
    "feat = coor.featurizer(topfile)\n",
    "feat.add_all()\n",
    "print(feat.describe()[:13])\n",
    "inp = coor.source(trajfile, feat)\n",
    "print(inp)\n",
    "print('trajectory length = ',inp.trajectory_length(0))\n",
    "print('number of dimension = ',inp.dimension())"
   ]
  },
  {
   "cell_type": "code",
   "execution_count": 6,
   "metadata": {},
   "outputs": [
    {
     "data": {
      "application/vnd.jupyter.widget-view+json": {
       "model_id": "258323823fa74df694b790e014683040",
       "version_major": 2,
       "version_minor": 0
      },
      "text/plain": [
       "HBox(children=(HBox(children=(Label(value='calc mean+cov'),), layout=Layout(max_width='35%', min_width='35%'))…"
      ]
     },
     "metadata": {},
     "output_type": "display_data"
    },
    {
     "name": "stdout",
     "output_type": "stream",
     "text": []
    },
    {
     "data": {
      "application/vnd.jupyter.widget-view+json": {
       "model_id": "1c3887dd2e224712ac0cb0d5567688ed",
       "version_major": 2,
       "version_minor": 0
      },
      "text/plain": [
       "HBox(children=(HBox(children=(Label(value='getting output of PCA'),), layout=Layout(max_width='35%', min_width…"
      ]
     },
     "metadata": {},
     "output_type": "display_data"
    },
    {
     "name": "stdout",
     "output_type": "stream",
     "text": []
    },
    {
     "data": {
      "text/plain": [
       "Text(0,0.5,'principal comp. 2')"
      ]
     },
     "execution_count": 6,
     "metadata": {},
     "output_type": "execute_result"
    },
    {
     "data": {
      "image/png": "[encoded data removed]",
      "text/plain": [
       "<Figure size 432x288 with 2 Axes>"
      ]
     },
     "metadata": {
      "needs_background": "light"
     },
     "output_type": "display_data"
    }
   ],
   "source": [
    "pca_obj=coor.pca(inp, dim= -1, var_cutoff=0.95) #0.95--> 220 dimensions\n",
    "Ypca = pca_obj.get_output()[0]\n",
    "subplot2grid((2,1),(0,0))\n",
    "plot(Ypca[:,0])\n",
    "ylabel('principal comp. 1')\n",
    "subplot2grid((2,1),(1,0))\n",
    "plot(Ypca[:,1])\n",
    "ylabel('principal comp. 2')"
   ]
  },
  {
   "cell_type": "code",
   "execution_count": 7,
   "metadata": {},
   "outputs": [
    {
     "data": {
      "application/vnd.jupyter.widget-view+json": {
       "model_id": "275335e56c2748379f0cd8e457d56475",
       "version_major": 2,
       "version_minor": 0
      },
      "text/plain": [
       "HBox(children=(HBox(children=(Label(value='initialize kmeans++ centers'),), layout=Layout(max_width='35%', min…"
      ]
     },
     "metadata": {},
     "output_type": "display_data"
    },
    {
     "data": {
      "application/vnd.jupyter.widget-view+json": {
       "model_id": "8be0f679ff3442dbbb8800c7a9a19c5c",
       "version_major": 2,
       "version_minor": 0
      },
      "text/plain": [
       "HBox(children=(HBox(children=(Label(value='kmeans iterations'),), layout=Layout(max_width='35%', min_width='35…"
      ]
     },
     "metadata": {},
     "output_type": "display_data"
    },
    {
     "name": "stdout",
     "output_type": "stream",
     "text": []
    },
    {
     "name": "stdout",
     "output_type": "stream",
     "text": [
      "[array([8, 8, 8, ..., 5, 5, 5], dtype=int32)]\n",
      "450000\n"
     ]
    }
   ],
   "source": [
    "cl = coor.cluster_kmeans(data=Ypca,k=10,max_iter=5000)\n",
    "\n",
    "dtrajs = cl.dtrajs\n",
    "cc_x = cl.clustercenters[:,0]\n",
    "cc_y = cl.clustercenters[:,1]\n",
    " \n",
    "print(dtrajs)\n",
    "print(np.size(dtrajs))"
   ]
  },
  {
   "cell_type": "code",
   "execution_count": 8,
   "metadata": {},
   "outputs": [
    {
     "name": "stdout",
     "output_type": "stream",
     "text": [
      "[-0.28621277  0.21395469 -0.41551232 -0.4228794   0.10512832 -0.01284867\n",
      "  0.38350883  0.0655138   0.17961986 -0.01501886]\n",
      "[-0.3817957  -0.14685762 -0.15285389 -0.09567524 -0.00312877  0.34447464\n",
      " -0.38558042  0.04742773  0.05320267  0.2498875 ]\n"
     ]
    },
    {
     "data": {
      "text/plain": [
       "[<matplotlib.lines.Line2D at 0x7f13a0f3e3c8>]"
      ]
     },
     "execution_count": 8,
     "metadata": {},
     "output_type": "execute_result"
    },
    {
     "data": {
      "image/png": "[encoded data removed]",
      "text/plain": [
       "<Figure size 432x288 with 2 Axes>"
      ]
     },
     "metadata": {
      "needs_background": "light"
     },
     "output_type": "display_data"
    }
   ],
   "source": [
    "mplt.plot_free_energy(np.vstack(Ypca)[:,0], np.vstack(Ypca)[:,1])\n",
    "cc_x = cl.clustercenters[:,0]\n",
    "cc_y = cl.clustercenters[:,1]\n",
    "plot(cc_x,cc_y, linewidth=0, marker='o', markersize=5, color='black')\n",
    "\n",
    "print(cc_x)\n",
    "print(cc_y)\n",
    "\n",
    "plot(cc_x[4], cc_y[4],linewidth=0, marker='o', markersize=5, color=\"red\")\n",
    "plot(cc_x[0], cc_y[0],linewidth=0, marker='o', markersize=5, color=\"red\")\n"
   ]
  },
  {
   "cell_type": "code",
   "execution_count": 9,
   "metadata": {},
   "outputs": [
    {
     "name": "stdout",
     "output_type": "stream",
     "text": [
      "654\n",
      "[0.07573777 0.14952137 0.21001823 0.26461775 0.30425511 0.33788685\n",
      " 0.37067766 0.39908865 0.4236977  0.44559999 0.46534869 0.48230813\n",
      " 0.49595863 0.50914195 0.52190547 0.53366943 0.54469593 0.55519262\n",
      " 0.5653002  0.57508912 0.58450993 0.5936246  0.60211781 0.60996335\n",
      " 0.61751169 0.62489677 0.6319892  0.63877909 0.64533503 0.65146592\n",
      " 0.65745521 0.66339269 0.66917078 0.67476031 0.67999893 0.68507088\n",
      " 0.69007733 0.69502159 0.69970185 0.704331   0.7089408  0.71328756\n",
      " 0.71748908 0.72164409 0.72566032 0.72960543 0.73348551 0.73724246\n",
      " 0.74092347 0.74454971 0.74805412 0.75146123 0.75480336 0.7580454\n",
      " 0.76126019 0.76438064 0.76748771 0.77048012 0.77342147 0.77626343\n",
      " 0.77900798 0.78170696 0.78439327 0.78700773 0.78961513 0.79213361\n",
      " 0.79454    0.79692952 0.79929551 0.80164846 0.80396644 0.80626205\n",
      " 0.80851933 0.81068541 0.81284465 0.8149441  0.81698712 0.81901295\n",
      " 0.82099979 0.82295445 0.82488484 0.82677379 0.82864691 0.83048648\n",
      " 0.83229853 0.83408941 0.83586668 0.83761657 0.83932513 0.84102006\n",
      " 0.84267763 0.8443142  0.84593444 0.84752628 0.84909212 0.85065218\n",
      " 0.85218692 0.85369473 0.85520177 0.8566878  0.85813076 0.8595667\n",
      " 0.86098224 0.86236748 0.8637416  0.86508658 0.86640294 0.86771279\n",
      " 0.86901404 0.87028264 0.87153392 0.87276946 0.8739935  0.87519124\n",
      " 0.87636966 0.87754377 0.87871053 0.8798646  0.88099786 0.88211739\n",
      " 0.88321916 0.88430829 0.88538662 0.88644091 0.88748781 0.88851322\n",
      " 0.88952986 0.89053206 0.89153175 0.89251663 0.89349893 0.89446688\n",
      " 0.89542357 0.89636642 0.89730343 0.89823113 0.89914546 0.90005193\n",
      " 0.90094934 0.90183512 0.90271336 0.90357453 0.9044302  0.90527912\n",
      " 0.90611369 0.90694366 0.90776057 0.90856432 0.90936097 0.91015168\n",
      " 0.91093121 0.91170611 0.91247083 0.91322867 0.91397745 0.91472058\n",
      " 0.91545584 0.91618731 0.91691238 0.91762902 0.91833182 0.91902821\n",
      " 0.91972066 0.92041126 0.92109508 0.92176683 0.92243734 0.92309711\n",
      " 0.92375383 0.92440268 0.92504312 0.92567715 0.92630173 0.92691854\n",
      " 0.9275285  0.92813532 0.92873499 0.92933288 0.92992569 0.9305133\n",
      " 0.93109624 0.93167377 0.93224005 0.93280475 0.93336633 0.93392432\n",
      " 0.93447544 0.93502104 0.9355636  0.93610216 0.9366364  0.93716607\n",
      " 0.93768927 0.93820824 0.93872465 0.93923218 0.93973394 0.94023316\n",
      " 0.94072944 0.94122344 0.94171254 0.94219952 0.94268371 0.94316333\n",
      " 0.94363916 0.94411053 0.94457822 0.94503914 0.94549228 0.94594357\n",
      " 0.94639135 0.94683712 0.94727521 0.94771141 0.94814257 0.94857112\n",
      " 0.94899447 0.94941521 0.94983545 0.95025341 0.95066879 0.95107985\n",
      " 0.95148714 0.95189324 0.9522956  0.9526928  0.95308632 0.95347556\n",
      " 0.9538633  0.95424435 0.95462481 0.95500123 0.95537716 0.95574566\n",
      " 0.95611328 0.9564781  0.95683983 0.95719973 0.95755568 0.95790936\n",
      " 0.95826105 0.95861101 0.95895711 0.95930161 0.95964369 0.95998413\n",
      " 0.9603212  0.96065491 0.96098566 0.9613148  0.96164165 0.9619664\n",
      " 0.96228741 0.96260626 0.96292226 0.96323807 0.96355019 0.96385851\n",
      " 0.9641628  0.96446608 0.96476651 0.96506299 0.9653589  0.96565375\n",
      " 0.96594681 0.96623711 0.96652481 0.96681173 0.96709464 0.96737628\n",
      " 0.96765536 0.96793309 0.96820991 0.96848374 0.96875699 0.96902881\n",
      " 0.96929878 0.96956845 0.96983419 0.97009803 0.97036022 0.97061996\n",
      " 0.97087844 0.97113628 0.97139132 0.97164373 0.97189526 0.97214265\n",
      " 0.9723892  0.97263406 0.97287754 0.97311999 0.97335965 0.97359791\n",
      " 0.9738342  0.97406849 0.97430018 0.97453046 0.9747604  0.97498805\n",
      " 0.97521542 0.97544075 0.97566307 0.97588384 0.97610324 0.9763223\n",
      " 0.9765386  0.97675291 0.97696594 0.97717766 0.9773879  0.97759694\n",
      " 0.97780287 0.97800755 0.97821181 0.97841387 0.97861368 0.97881321\n",
      " 0.97901013 0.97920579 0.97940013 0.97959385 0.97978656 0.97997787\n",
      " 0.98016673 0.98035479 0.98054235 0.98072825 0.98091319 0.98109661\n",
      " 0.9812784  0.9814579  0.98163645 0.98181421 0.98199134 0.98216683\n",
      " 0.98234062 0.98251245 0.98268365 0.98285426 0.98302343 0.98319152\n",
      " 0.98335734 0.98352307 0.98368768 0.98384986 0.98401054 0.98417037\n",
      " 0.98432808 0.98448327 0.98463812 0.9847922  0.9849445  0.98509625\n",
      " 0.98524667 0.98539603 0.9855452  0.98569333 0.98584053 0.98598635\n",
      " 0.98612992 0.98627307 0.98641578 0.98655707 0.98669818 0.98683801\n",
      " 0.98697653 0.98711425 0.98725104 0.98738681 0.98752159 0.98765587\n",
      " 0.98778938 0.98792173 0.98805304 0.98818346 0.98831383 0.98844277\n",
      " 0.98857167 0.98869942 0.98882679 0.98895308 0.9890787  0.98920339\n",
      " 0.98932735 0.98944974 0.98957189 0.98969309 0.98981335 0.9899331\n",
      " 0.99005276 0.99017164 0.99028978 0.99040704 0.99052368 0.99063951\n",
      " 0.99075306 0.99086604 0.99097771 0.99108859 0.99119847 0.99130758\n",
      " 0.99141596 0.99152379 0.99163117 0.99173793 0.99184398 0.99194893\n",
      " 0.99205294 0.99215662 0.99225954 0.99236128 0.99246276 0.99256319\n",
      " 0.99266006 0.99275671 0.99285269 0.99294776 0.99304194 0.99313576\n",
      " 0.9932291  0.99332201 0.99341479 0.99350577 0.99359581 0.99368479\n",
      " 0.99377289 0.99385987 0.99394632 0.99402954 0.99411229 0.99419438\n",
      " 0.99427502 0.99435519 0.99443481 0.99451356 0.99459051 0.99466629\n",
      " 0.99474057 0.9948145  0.99488756 0.99495957 0.99503008 0.99510035\n",
      " 0.99516461 0.99522847 0.99529224 0.99535422 0.99541347 0.99547218\n",
      " 0.99552953 0.99558359 0.99563732 0.99568726 0.99573659 0.99578267\n",
      " 0.995828   0.99587228 0.99591576 0.9959583  0.99600054 0.99604225\n",
      " 0.99608385 0.99612526 0.99616597 0.99620454 0.99624288 0.99628102\n",
      " 0.99631833 0.99635529 0.99639206 0.99642839 0.99646432 0.99649912\n",
      " 0.9965338  0.99656834 0.99660281 0.99663674 0.99667035 0.99670389\n",
      " 0.99673705 0.99677014 0.99680305 0.9968354  0.99686761 0.99689965\n",
      " 0.99693154 0.99696194 0.99699218 0.99702215 0.99705129 0.99708002\n",
      " 0.99710844 0.99713673 0.99716488 0.99719254 0.99722002 0.99724737\n",
      " 0.99727441 0.99730138 0.99732824 0.99735494 0.99738154 0.99740793\n",
      " 0.99743414 0.99745906 0.99748386 0.99750862 0.99753336 0.99755801\n",
      " 0.99758227 0.9976064  0.99763043 0.99765428 0.99767807 0.99770162\n",
      " 0.99772511 0.99774818 0.99777116 0.99779401 0.99781684 0.99783935\n",
      " 0.99786175 0.99788384 0.99790588 0.99792789 0.99794973 0.99797146\n",
      " 0.99799292 0.9980143  0.99803533 0.99805618 0.99807676 0.99809726\n",
      " 0.99811764 0.99813794 0.99815805 0.99817808 0.99819796 0.99821774\n",
      " 0.99823728 0.99825678 0.99827623 0.99829559 0.99831482 0.99833401\n",
      " 0.99835316 0.99837228 0.9983913  0.99841027 0.99842919 0.99844796\n",
      " 0.9984667  0.99848541 0.99850407 0.99852258 0.99854099 0.99855934\n",
      " 0.99857766 0.99859585 0.99861399 0.99863207 0.99865013 0.99866816\n",
      " 0.99868614 0.99870404 0.99872191 0.99873969 0.99875742 0.99877512\n",
      " 0.99879278 0.99881044 0.99882796 0.99884545 0.99886288 0.99888029\n",
      " 0.99889767 0.99891505 0.99893238 0.9989497  0.99896698 0.99898425\n",
      " 0.99900148 0.99901869 0.99903585 0.99905298 0.99907008 0.99908717\n",
      " 0.99910425 0.99912122 0.99913818 0.99915513 0.99917205 0.99918897\n",
      " 0.99920587 0.99922269 0.9992395  0.99925627 0.999273   0.99928971\n",
      " 0.99930634 0.99932294 0.99933951 0.999356   0.99937247 0.99938891\n",
      " 0.99940533 0.99942168 0.99943798 0.99945424 0.99947048 0.99948666\n",
      " 0.99950282 0.99951893 0.99953498 0.99955098 0.99956696 0.99958282\n",
      " 0.99959856 0.9996142  0.99962973 0.99964519 0.99966055 0.99967582\n",
      " 0.99969098 0.99970572 0.99972023 0.99973466 0.99974904 0.99976323\n",
      " 0.99977739 0.99979142 0.99980538 0.99981903 0.99983261 0.99984615\n",
      " 0.99985966 0.99987287 0.99988598 0.99989904 0.99991209 0.99992493\n",
      " 0.99993766 0.99995032 0.9999629  0.99997544 0.99998754 0.99999946\n",
      " 0.99999955 0.99999964 0.99999973 0.99999982 0.99999991 1.        ]\n",
      "220\n"
     ]
    }
   ],
   "source": [
    "print(np.size(pca_obj.cumvar))\n",
    "print(pca_obj.cumvar)\n",
    "print(np.size(Ypca[0]))"
   ]
  },
  {
   "cell_type": "code",
   "execution_count": 10,
   "metadata": {},
   "outputs": [
    {
     "name": "stdout",
     "output_type": "stream",
     "text": [
      "[array([8, 8, 8, ..., 5, 5, 5], dtype=int32)]\n",
      "[8 8 8 ... 5 5 5]\n",
      "9\n"
     ]
    }
   ],
   "source": [
    "print(dtrajs)\n",
    "dtraj=max(dtrajs)\n",
    "print(dtraj)\n",
    "print(max(dtraj))"
   ]
  },
  {
   "cell_type": "code",
   "execution_count": null,
   "metadata": {},
   "outputs": [],
   "source": [
    "#From here on it's clustering and extracting centroids, as well as saving out the centroid coords"
   ]
  },
  {
   "cell_type": "code",
   "execution_count": 11,
   "metadata": {},
   "outputs": [],
   "source": [
    "Clusters={}\n",
    "\n",
    "for count in range(0,10):\n",
    "    frames=[]\n",
    "    indices = [d for d, x in enumerate(dtraj) if x == count]\n",
    "    frames.append(indices)\n",
    "    Clusters[count]=frames\n"
   ]
  },
  {
   "cell_type": "code",
   "execution_count": 12,
   "metadata": {},
   "outputs": [
    {
     "name": "stdout",
     "output_type": "stream",
     "text": [
      "Stored 'Clusters' (dict)\n"
     ]
    }
   ],
   "source": [
    "% store Clusters"
   ]
  },
  {
   "cell_type": "code",
   "execution_count": 14,
   "metadata": {},
   "outputs": [
    {
     "name": "stdout",
     "output_type": "stream",
     "text": [
      "0\n"
     ]
    },
    {
     "name": "stderr",
     "output_type": "stream",
     "text": [
      "/opt/anaconda3/lib/python3.6/site-packages/mdtraj/core/trajectory.py:1118: FutureWarning: Using a non-tuple sequence for multidimensional indexing is deprecated; use `arr[tuple(seq)]` instead of `arr[seq]`. In the future this will be interpreted as an array index, `arr[np.array(seq)]`, which will result either in an error or a different result.\n",
      "  xyz = self.xyz[key]\n",
      "/opt/anaconda3/lib/python3.6/site-packages/mdtraj/core/trajectory.py:1119: FutureWarning: Using a non-tuple sequence for multidimensional indexing is deprecated; use `arr[tuple(seq)]` instead of `arr[seq]`. In the future this will be interpreted as an array index, `arr[np.array(seq)]`, which will result either in an error or a different result.\n",
      "  time = self.time[key]\n",
      "/opt/anaconda3/lib/python3.6/site-packages/mdtraj/core/trajectory.py:1123: FutureWarning: Using a non-tuple sequence for multidimensional indexing is deprecated; use `arr[tuple(seq)]` instead of `arr[seq]`. In the future this will be interpreted as an array index, `arr[np.array(seq)]`, which will result either in an error or a different result.\n",
      "  unitcell_angles = self.unitcell_angles[key]\n",
      "/opt/anaconda3/lib/python3.6/site-packages/mdtraj/core/trajectory.py:1125: FutureWarning: Using a non-tuple sequence for multidimensional indexing is deprecated; use `arr[tuple(seq)]` instead of `arr[seq]`. In the future this will be interpreted as an array index, `arr[np.array(seq)]`, which will result either in an error or a different result.\n",
      "  unitcell_lengths = self.unitcell_lengths[key]\n"
     ]
    },
    {
     "name": "stdout",
     "output_type": "stream",
     "text": [
      "<mdtraj.Trajectory with 33669 frames, 3324 atoms, 220 residues, and unitcells>\n",
      "1\n",
      "<mdtraj.Trajectory with 68566 frames, 3324 atoms, 220 residues, and unitcells>\n",
      "2\n",
      "<mdtraj.Trajectory with 36335 frames, 3324 atoms, 220 residues, and unitcells>\n",
      "3\n",
      "<mdtraj.Trajectory with 30816 frames, 3324 atoms, 220 residues, and unitcells>\n",
      "4\n",
      "<mdtraj.Trajectory with 65293 frames, 3324 atoms, 220 residues, and unitcells>\n",
      "5\n",
      "<mdtraj.Trajectory with 54965 frames, 3324 atoms, 220 residues, and unitcells>\n",
      "6\n",
      "<mdtraj.Trajectory with 13797 frames, 3324 atoms, 220 residues, and unitcells>\n",
      "7\n",
      "<mdtraj.Trajectory with 38100 frames, 3324 atoms, 220 residues, and unitcells>\n",
      "8\n",
      "<mdtraj.Trajectory with 55393 frames, 3324 atoms, 220 residues, and unitcells>\n",
      "9\n",
      "<mdtraj.Trajectory with 53066 frames, 3324 atoms, 220 residues, and unitcells>\n"
     ]
    }
   ],
   "source": [
    "for key in Clusters:\n",
    "    print(key)\n",
    "    a=Traj[Clusters[key]]\n",
    "\n",
    "    a.save_xtc('PCA/Trajectories/Traj_0.95-'+str(key)+\".xtc\")\n",
    "    print(a)"
   ]
  },
  {
   "cell_type": "code",
   "execution_count": 15,
   "metadata": {},
   "outputs": [
    {
     "name": "stdout",
     "output_type": "stream",
     "text": [
      "[0.548103, 0.50938505, 0.49911138, 0.5124164, 0.5219056, 0.5485285, 0.60328215, 0.5256266, 0.52409995, 0.5288023]\n",
      "[211834. 293394. 132319. 102757. 347789. 437198. 199382.  16634.  91541.\n",
      " 303274.]\n"
     ]
    }
   ],
   "source": [
    "avg = [100, 100, 100, 100, 100,100, 100, 100, 100, 100]\n",
    "indices = np.zeros(10)\n",
    "for i in range(len(Ypca)):\n",
    "    c = cl.clustercenters[cl.dtrajs[0][i]]\n",
    "\n",
    "    \n",
    "    v = Ypca[i]\n",
    "    \n",
    "    newavg = np.linalg.norm(c-v)\n",
    "   \n",
    "    if avg[cl.dtrajs[0][i]] > newavg:\n",
    "        avg[cl.dtrajs[0][i]] = newavg\n",
    "        indices[cl.dtrajs[0][i]] = i\n",
    "        \n",
    "print(avg)\n",
    "print(indices)\n",
    "\n",
    "for i in range(len(avg)):\n",
    "    Traj[i].save_pdb('PCA/CENTROID_0.95-%s.pdb' % i)"
   ]
  }
 ],
 "metadata": {
  "kernelspec": {
   "display_name": "Python 3",
   "language": "python",
   "name": "python3"
  },
  "language_info": {
   "codemirror_mode": {
    "name": "ipython",
    "version": 3
   },
   "file_extension": ".py",
   "mimetype": "text/x-python",
   "name": "python",
   "nbconvert_exporter": "python",
   "pygments_lexer": "ipython3",
   "version": "3.6.6"
  }
 },
 "nbformat": 4,
 "nbformat_minor": 2
}
