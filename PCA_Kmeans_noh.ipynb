{
 "cells": [
  {
   "cell_type": "code",
   "execution_count": 5,
   "metadata": {},
   "outputs": [],
   "source": [
    "# Save topology with carbon alphas \n",
    "#joined_traj=md.load(\"/net/jam-amaro-shared/bccgc4/CatSMD/md1/1.nc\", top=\"/net/jam-amaro-shared/bccgc4/Strided_Traj/system.prmtop\",stride=100)\n",
    "#selection=joined_traj.topology.select(\"protein\")\n",
    "#joined_traj=joined_traj.atom_slice(selection)\n",
    "    \n",
    "#first_frame=joined_traj[0]\n",
    "#first_frame.save_hdf5(\"/net/jam-amaro-shared/bccgc4/Strided_Traj/CA_Aligned_Traj/protein.h5\")"
   ]
  },
  {
   "cell_type": "code",
   "execution_count": null,
   "metadata": {},
   "outputs": [],
   "source": [
    "#Start "
   ]
  },
  {
   "cell_type": "code",
   "execution_count": 1,
   "metadata": {},
   "outputs": [
    {
     "name": "stderr",
     "output_type": "stream",
     "text": [
      "/opt/anaconda3/lib/python3.6/site-packages/pyemma/__init__.py:130: UserWarning: You are not using the latest release of PyEMMA. Latest is 2.5.6, you have 2.5.4.\n",
      "  .format(latest=latest, current=current), category=UserWarning)\n"
     ]
    },
    {
     "name": "stdout",
     "output_type": "stream",
     "text": [
      "Populating the interactive namespace from numpy and matplotlib\n"
     ]
    }
   ],
   "source": [
    "import pyemma\n",
    "import glob\n",
    "import numpy as np\n",
    "import pyemma.plots as mplt\n",
    "%pylab inline\n",
    "import mdtraj as md\n",
    "import pyemma.coordinates as coor\n",
    " \n",
    "def average_by_state(dtraj, x, nstates):\n",
    "    assert(len(dtraj) == len(x))\n",
    "    N = len(dtraj)\n",
    "    res = np.zeros((nstates))\n",
    "    for i in range(nstates):\n",
    "        I = np.argwhere(dtraj == i)[:,0]\n",
    "        res[i] = np.mean(x[I])\n",
    "    return res\n",
    " \n",
    "def avg_by_set(x, sets):\n",
    "    # compute mean positions of sets. This is important because of some technical points the set order\n",
    "    # in the coarse-grained TPT object can be different from the input order.\n",
    "    avg = np.zeros(len(sets))\n",
    "    for i in range(len(sets)):\n",
    "        I = list(sets[i])\n",
    "        avg[i] = np.mean(x[I])\n",
    "    return avg\n"
   ]
  },
  {
   "cell_type": "code",
   "execution_count": 2,
   "metadata": {},
   "outputs": [],
   "source": [
    "traj=md.load(\"/net/jam-amaro-shared/bccgc4/Strided_Traj/traj_noh_stride100.nc\",top=\"/net/jam-amaro-shared/bccgc4/PCA/protein_noh_top.h5\")"
   ]
  },
  {
   "cell_type": "code",
   "execution_count": 5,
   "metadata": {},
   "outputs": [],
   "source": [
    "Traj = md.load(\"/net/jam-amaro-shared/bccgc4/Strided_Traj/traj_stride100.nc\", top=\"/net/jam-amaro-shared/bccgc4/Strided_Traj/protein.h5\")"
   ]
  },
  {
   "cell_type": "code",
   "execution_count": 6,
   "metadata": {},
   "outputs": [
    {
     "name": "stdout",
     "output_type": "stream",
     "text": [
      "<mdtraj.Trajectory with 4500 frames, 3107 atoms, 220 residues, and unitcells>\n",
      "<mdtraj.Trajectory with 4500 frames, 3324 atoms, 220 residues, and unitcells>\n"
     ]
    }
   ],
   "source": [
    "print(traj)\n",
    "print(Traj)"
   ]
  },
  {
   "cell_type": "code",
   "execution_count": 7,
   "metadata": {},
   "outputs": [
    {
     "name": "stdout",
     "output_type": "stream",
     "text": [
      "['ATOM:ACE 0 CH3 0 x', 'ATOM:ACE 0 CH3 0 y', 'ATOM:ACE 0 CH3 0 z', 'ATOM:ACE 0 C 1 x', 'ATOM:ACE 0 C 1 y', 'ATOM:ACE 0 C 1 z', 'ATOM:ACE 0 O 2 x', 'ATOM:ACE 0 O 2 y', 'ATOM:ACE 0 O 2 z', 'ATOM:ILE 1 N 3 x', 'ATOM:ILE 1 N 3 y', 'ATOM:ILE 1 N 3 z', 'ATOM:ILE 1 CA 4 x']\n",
      "<pyemma.coordinates.data.feature_reader.FeatureReader object at 0x7fc0c3032cc0>\n",
      "trajectory length =  4500\n",
      "number of dimension =  9321\n"
     ]
    }
   ],
   "source": [
    "trajfile=\"/net/jam-amaro-shared/bccgc4/Strided_Traj/traj_noh_stride100.nc\"\n",
    "topfile=\"/net/jam-amaro-shared/bccgc4/PCA/protein_noh_top.h5\"\n",
    "\n",
    "feat = coor.featurizer(topfile)\n",
    "feat.add_all()\n",
    "print(feat.describe()[:13])\n",
    "inp = coor.source(trajfile, feat)\n",
    "print(inp)\n",
    "print('trajectory length = ',inp.trajectory_length(0))\n",
    "print('number of dimension = ',inp.dimension())"
   ]
  },
  {
   "cell_type": "code",
   "execution_count": 8,
   "metadata": {},
   "outputs": [
    {
     "data": {
      "text/plain": [
       "Text(0, 0.5, 'principal comp. 2')"
      ]
     },
     "execution_count": 8,
     "metadata": {},
     "output_type": "execute_result"
    },
    {
     "data": {
      "image/png": "[encoded data removed]",
      "text/plain": [
       "<Figure size 432x288 with 2 Axes>"
      ]
     },
     "metadata": {
      "needs_background": "light"
     },
     "output_type": "display_data"
    }
   ],
   "source": [
    "pca_obj=coor.pca(inp, dim= -1, var_cutoff=0.95) #0.95--> 220 dimensions\n",
    "Ypca = pca_obj.get_output()[0]\n",
    "\n",
    "subplot2grid((2,1),(0,0))\n",
    "plot(Ypca[:,0])\n",
    "ylabel('principal comp. 1')\n",
    "subplot2grid((2,1),(1,0))\n",
    "plot(Ypca[:,1])\n",
    "ylabel('principal comp. 2')"
   ]
  },
  {
   "cell_type": "code",
   "execution_count": 9,
   "metadata": {},
   "outputs": [
    {
     "data": {
      "application/vnd.jupyter.widget-view+json": {
       "model_id": "161c44ad1494460eb0457f9a1e354d3b",
       "version_major": 2,
       "version_minor": 0
      },
      "text/plain": [
       "HBox(children=(HBox(children=(Label(value='initialize kmeans++ centers'),), layout=Layout(max_width='35%', min…"
      ]
     },
     "metadata": {},
     "output_type": "display_data"
    },
    {
     "data": {
      "application/vnd.jupyter.widget-view+json": {
       "model_id": "b9b5cbb7262d4e1297749254653d0604",
       "version_major": 2,
       "version_minor": 0
      },
      "text/plain": [
       "HBox(children=(HBox(children=(Label(value='kmeans iterations'),), layout=Layout(max_width='35%', min_width='35…"
      ]
     },
     "metadata": {},
     "output_type": "display_data"
    },
    {
     "name": "stdout",
     "output_type": "stream",
     "text": []
    },
    {
     "name": "stdout",
     "output_type": "stream",
     "text": [
      "[array([2, 2, 2, ..., 8, 8, 8], dtype=int32)]\n",
      "4500\n"
     ]
    }
   ],
   "source": [
    "cl = coor.cluster_kmeans(data=Ypca,k=10,max_iter=5000)\n",
    "\n",
    "dtrajs = cl.dtrajs\n",
    "cc_x = cl.clustercenters[:,0]\n",
    "cc_y = cl.clustercenters[:,1]\n",
    " \n",
    "print(dtrajs)\n",
    "print(np.size(dtrajs))"
   ]
  },
  {
   "cell_type": "code",
   "execution_count": 11,
   "metadata": {},
   "outputs": [
    {
     "name": "stdout",
     "output_type": "stream",
     "text": [
      "[ 2.2123988  -0.5625385  -1.0760943  -0.6982353   2.4106562  -0.5202556\n",
      " -1.0822605  -0.4480963  -0.51540506  2.1581526 ]\n",
      "[-0.44575787 -0.32383233  0.45359382 -0.19288795 -1.0103463   2.5585225\n",
      " -2.0900397  -0.9201957   1.6952683   0.37882382]\n"
     ]
    },
    {
     "data": {
      "image/png": "[encoded data removed]",
      "text/plain": [
       "<Figure size 432x288 with 2 Axes>"
      ]
     },
     "metadata": {
      "needs_background": "light"
     },
     "output_type": "display_data"
    }
   ],
   "source": [
    "mplt.plot_free_energy(np.vstack(Ypca)[:,0], np.vstack(Ypca)[:,1])\n",
    "cc_x = cl.clustercenters[:,0]\n",
    "cc_y = cl.clustercenters[:,1]\n",
    "plot(cc_x,cc_y, linewidth=0, marker='o', markersize=5, color='black')\n",
    "\n",
    "print(cc_x)\n",
    "print(cc_y)\n",
    "\n",
    "plot(cc_x[4], cc_y[4],linewidth=0, marker='o', markersize=5, color=\"red\")\n",
    "plot(cc_x[0], cc_y[0],linewidth=0, marker='o', markersize=5, color=\"red\")\n",
    "\n",
    "savefig('PCA_free_energy.png')"
   ]
  },
  {
   "cell_type": "code",
   "execution_count": 12,
   "metadata": {},
   "outputs": [
    {
     "name": "stdout",
     "output_type": "stream",
     "text": [
      "9321\n",
      "[0.03766306 0.06846286 0.09569396 ... 1.         1.         1.        ]\n",
      "871\n"
     ]
    }
   ],
   "source": [
    "print(np.size(pca_obj.cumvar))\n",
    "print(pca_obj.cumvar)\n",
    "print(np.size(Ypca[0]))"
   ]
  },
  {
   "cell_type": "code",
   "execution_count": 13,
   "metadata": {},
   "outputs": [
    {
     "name": "stdout",
     "output_type": "stream",
     "text": [
      "[array([2, 2, 2, ..., 8, 8, 8], dtype=int32)]\n",
      "[2 2 2 ... 8 8 8]\n",
      "9\n"
     ]
    }
   ],
   "source": [
    "print(dtrajs)\n",
    "dtraj=max(dtrajs)\n",
    "print(dtraj)\n",
    "print(max(dtraj))"
   ]
  },
  {
   "cell_type": "code",
   "execution_count": null,
   "metadata": {},
   "outputs": [],
   "source": [
    "#From here on it's clustering and extracting centroids, as well as saving out the centroid coords"
   ]
  },
  {
   "cell_type": "code",
   "execution_count": 14,
   "metadata": {},
   "outputs": [],
   "source": [
    "Clusters={}\n",
    "\n",
    "for count in range(0,10):\n",
    "    frames=[]\n",
    "    indices = [d for d, x in enumerate(dtraj) if x == count]\n",
    "    frames.append(indices)\n",
    "    Clusters[count]=frames\n"
   ]
  },
  {
   "cell_type": "code",
   "execution_count": 15,
   "metadata": {},
   "outputs": [
    {
     "name": "stderr",
     "output_type": "stream",
     "text": [
      "UsageError: Line magic function `%` not found.\n"
     ]
    }
   ],
   "source": [
    "% store Clusters"
   ]
  },
  {
   "cell_type": "code",
   "execution_count": 17,
   "metadata": {},
   "outputs": [
    {
     "name": "stdout",
     "output_type": "stream",
     "text": [
      "0\n",
      "<mdtraj.Trajectory with 303 frames, 3324 atoms, 220 residues, and unitcells>\n",
      "1\n",
      "<mdtraj.Trajectory with 1053 frames, 3324 atoms, 220 residues, and unitcells>\n",
      "2\n",
      "<mdtraj.Trajectory with 559 frames, 3324 atoms, 220 residues, and unitcells>\n",
      "3\n",
      "<mdtraj.Trajectory with 542 frames, 3324 atoms, 220 residues, and unitcells>\n",
      "4\n",
      "<mdtraj.Trajectory with 202 frames, 3324 atoms, 220 residues, and unitcells>\n",
      "5\n",
      "<mdtraj.Trajectory with 221 frames, 3324 atoms, 220 residues, and unitcells>\n",
      "6\n",
      "<mdtraj.Trajectory with 145 frames, 3324 atoms, 220 residues, and unitcells>\n",
      "7\n",
      "<mdtraj.Trajectory with 588 frames, 3324 atoms, 220 residues, and unitcells>\n",
      "8\n",
      "<mdtraj.Trajectory with 359 frames, 3324 atoms, 220 residues, and unitcells>\n",
      "9\n",
      "<mdtraj.Trajectory with 528 frames, 3324 atoms, 220 residues, and unitcells>\n"
     ]
    }
   ],
   "source": [
    "for key in Clusters:\n",
    "    print(key)\n",
    "    a=Traj[Clusters[key]]\n",
    "\n",
    "    a.save_xtc('/net/jam-amaro-shared/bccgc4/PCA/Trajectories/Traj_0.95-'+str(key)+\".xtc\")\n",
    "    print(a)"
   ]
  },
  {
   "cell_type": "code",
   "execution_count": 18,
   "metadata": {},
   "outputs": [
    {
     "name": "stdout",
     "output_type": "stream",
     "text": [
      "[5.5112553, 5.422754, 5.4280324, 5.589189, 5.678764, 5.517187, 5.8907475, 5.5552607, 5.454012, 5.4188166]\n",
      "[2233. 1468. 1810. 3548.  874. 4211. 2441.  151. 4477. 1274.]\n"
     ]
    }
   ],
   "source": [
    "avg = [100, 100, 100, 100, 100,100, 100, 100, 100, 100]\n",
    "indices = np.zeros(10)\n",
    "for i in range(len(Ypca)):\n",
    "    c = cl.clustercenters[cl.dtrajs[0][i]]\n",
    "\n",
    "    \n",
    "    v = Ypca[i]\n",
    "    \n",
    "    newavg = np.linalg.norm(c-v)\n",
    "   \n",
    "    if avg[cl.dtrajs[0][i]] > newavg:\n",
    "        avg[cl.dtrajs[0][i]] = newavg\n",
    "        indices[cl.dtrajs[0][i]] = i\n",
    "        \n",
    "print(avg)\n",
    "print(indices)\n",
    "\n",
    "for i in range(len(avg)):\n",
    "    Traj[i].save_pdb('/net/jam-amaro-shared/bccgc4/PCA/centroids/CENTROID_0.95-%s.pdb' % i)"
   ]
  },
  {
   "cell_type": "code",
   "execution_count": null,
   "metadata": {},
   "outputs": [],
   "source": []
  }
 ],
 "metadata": {
  "kernelspec": {
   "display_name": "Python 3",
   "language": "python",
   "name": "python3"
  },
  "language_info": {
   "codemirror_mode": {
    "name": "ipython",
    "version": 3
   },
   "file_extension": ".py",
   "mimetype": "text/x-python",
   "name": "python",
   "nbconvert_exporter": "python",
   "pygments_lexer": "ipython3",
   "version": "3.6.7"
  }
 },
 "nbformat": 4,
 "nbformat_minor": 2
}
